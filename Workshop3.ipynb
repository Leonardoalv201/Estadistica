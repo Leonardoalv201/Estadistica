{
  "nbformat": 4,
  "nbformat_minor": 0,
  "metadata": {
    "colab": {
      "name": "Workshop3.ipynb",
      "provenance": []
    },
    "kernelspec": {
      "name": "python3",
      "display_name": "Python 3"
    },
    "language_info": {
      "name": "python"
    }
  },
  "cells": [
    {
      "cell_type": "code",
      "execution_count": null,
      "metadata": {
        "colab": {
          "base_uri": "https://localhost:8080/"
        },
        "id": "lSLX8S_oCl9j",
        "outputId": "59e5149b-ccf7-4edc-a701-a9fc9e429098"
      },
      "outputs": [
        {
          "output_type": "stream",
          "name": "stdout",
          "text": [
            "Looking in indexes: https://pypi.org/simple, https://us-python.pkg.dev/colab-wheels/public/simple/\n",
            "Requirement already satisfied: pandas in /usr/local/lib/python3.7/dist-packages (1.3.5)\n",
            "Requirement already satisfied: pytz>=2017.3 in /usr/local/lib/python3.7/dist-packages (from pandas) (2022.1)\n",
            "Requirement already satisfied: python-dateutil>=2.7.3 in /usr/local/lib/python3.7/dist-packages (from pandas) (2.8.2)\n",
            "Requirement already satisfied: numpy>=1.17.3 in /usr/local/lib/python3.7/dist-packages (from pandas) (1.21.6)\n",
            "Requirement already satisfied: six>=1.5 in /usr/local/lib/python3.7/dist-packages (from python-dateutil>=2.7.3->pandas) (1.15.0)\n",
            "Looking in indexes: https://pypi.org/simple, https://us-python.pkg.dev/colab-wheels/public/simple/\n",
            "Requirement already satisfied: pandas-datareader in /usr/local/lib/python3.7/dist-packages (0.9.0)\n",
            "Collecting pandas-datareader\n",
            "  Downloading pandas_datareader-0.10.0-py3-none-any.whl (109 kB)\n",
            "\u001b[K     |████████████████████████████████| 109 kB 5.0 MB/s \n",
            "\u001b[?25hRequirement already satisfied: requests>=2.19.0 in /usr/local/lib/python3.7/dist-packages (from pandas-datareader) (2.23.0)\n",
            "Requirement already satisfied: lxml in /usr/local/lib/python3.7/dist-packages (from pandas-datareader) (4.9.1)\n",
            "Requirement already satisfied: pandas>=0.23 in /usr/local/lib/python3.7/dist-packages (from pandas-datareader) (1.3.5)\n",
            "Requirement already satisfied: numpy>=1.17.3 in /usr/local/lib/python3.7/dist-packages (from pandas>=0.23->pandas-datareader) (1.21.6)\n",
            "Requirement already satisfied: python-dateutil>=2.7.3 in /usr/local/lib/python3.7/dist-packages (from pandas>=0.23->pandas-datareader) (2.8.2)\n",
            "Requirement already satisfied: pytz>=2017.3 in /usr/local/lib/python3.7/dist-packages (from pandas>=0.23->pandas-datareader) (2022.1)\n",
            "Requirement already satisfied: six>=1.5 in /usr/local/lib/python3.7/dist-packages (from python-dateutil>=2.7.3->pandas>=0.23->pandas-datareader) (1.15.0)\n",
            "Requirement already satisfied: chardet<4,>=3.0.2 in /usr/local/lib/python3.7/dist-packages (from requests>=2.19.0->pandas-datareader) (3.0.4)\n",
            "Requirement already satisfied: certifi>=2017.4.17 in /usr/local/lib/python3.7/dist-packages (from requests>=2.19.0->pandas-datareader) (2022.6.15)\n",
            "Requirement already satisfied: urllib3!=1.25.0,!=1.25.1,<1.26,>=1.21.1 in /usr/local/lib/python3.7/dist-packages (from requests>=2.19.0->pandas-datareader) (1.24.3)\n",
            "Requirement already satisfied: idna<3,>=2.5 in /usr/local/lib/python3.7/dist-packages (from requests>=2.19.0->pandas-datareader) (2.10)\n",
            "Installing collected packages: pandas-datareader\n",
            "  Attempting uninstall: pandas-datareader\n",
            "    Found existing installation: pandas-datareader 0.9.0\n",
            "    Uninstalling pandas-datareader-0.9.0:\n",
            "      Successfully uninstalled pandas-datareader-0.9.0\n",
            "Successfully installed pandas-datareader-0.10.0\n"
          ]
        }
      ],
      "source": [
        "!pip install --upgrade pandas\n",
        "!pip install --upgrade pandas-datareader"
      ]
    },
    {
      "cell_type": "code",
      "source": [
        "import numpy as np\n",
        "import math\n",
        "import pandas as pd\n",
        "import pandas_datareader as pdr\n",
        "import matplotlib\n",
        "import matplotlib.pyplot as plt\n",
        "\n",
        "MSFT = pdr.get_data_yahoo('MSFT',\n",
        "start=\"01/01/2017\", interval=\"m\")\n",
        "AAPL = pdr.get_data_yahoo('AAPL',\n",
        "start=\"01/01/2017\", interval=\"m\")"
      ],
      "metadata": {
        "id": "l6Bam5h-EG2G"
      },
      "execution_count": null,
      "outputs": []
    },
    {
      "cell_type": "markdown",
      "source": [
        "PRIMERO OBTENEMOS LOS DATOS DE LAS EMPRESAS 'MICROSOFT' Y 'APPLE' PARA PODER COMPARAR SUS GANANCIAS"
      ],
      "metadata": {
        "id": "PzaRkr_XHKGI"
      }
    },
    {
      "cell_type": "code",
      "source": [
        "MSFT"
      ],
      "metadata": {
        "colab": {
          "base_uri": "https://localhost:8080/",
          "height": 455
        },
        "id": "uBaK-p_3EsKi",
        "outputId": "06dce156-da8a-4c9a-ed26-63f2d58d3249"
      },
      "execution_count": null,
      "outputs": [
        {
          "output_type": "execute_result",
          "data": {
            "text/plain": [
              "                  High         Low        Open       Close       Volume  \\\n",
              "Date                                                                      \n",
              "2017-01-01   65.910004   61.950001   62.790001   64.650002  493453500.0   \n",
              "2017-02-01   65.239998   62.750000   64.360001   63.980000  440744000.0   \n",
              "2017-03-01   66.190002   63.619999   64.129997   65.860001  489169700.0   \n",
              "2017-04-01   69.139999   64.849998   65.809998   68.459999  433191200.0   \n",
              "2017-05-01   70.739998   67.139999   68.680000   69.839996  517218500.0   \n",
              "...                ...         ...         ...         ...          ...   \n",
              "2022-05-01  290.880005  246.440002  277.709991  271.869995  742902000.0   \n",
              "2022-06-01  277.690002  241.509995  275.200012  256.829987  621372300.0   \n",
              "2022-07-01  282.000000  245.940002  256.390015  280.739990  534868400.0   \n",
              "2022-08-01  291.910004  272.380005  277.820007  291.910004  212179300.0   \n",
              "2022-08-15  292.679901  290.130005  291.000000  290.709991    7363164.0   \n",
              "\n",
              "             Adj Close  \n",
              "Date                    \n",
              "2017-01-01   59.846733  \n",
              "2017-02-01   59.226509  \n",
              "2017-03-01   61.336449  \n",
              "2017-04-01   63.757870  \n",
              "2017-05-01   65.043083  \n",
              "...                ...  \n",
              "2022-05-01  271.238251  \n",
              "2022-06-01  256.829987  \n",
              "2022-07-01  280.739990  \n",
              "2022-08-01  291.910004  \n",
              "2022-08-15  290.709991  \n",
              "\n",
              "[69 rows x 6 columns]"
            ],
            "text/html": [
              "\n",
              "  <div id=\"df-083f18f8-a6f8-4f35-8637-3491a5c4cb72\">\n",
              "    <div class=\"colab-df-container\">\n",
              "      <div>\n",
              "<style scoped>\n",
              "    .dataframe tbody tr th:only-of-type {\n",
              "        vertical-align: middle;\n",
              "    }\n",
              "\n",
              "    .dataframe tbody tr th {\n",
              "        vertical-align: top;\n",
              "    }\n",
              "\n",
              "    .dataframe thead th {\n",
              "        text-align: right;\n",
              "    }\n",
              "</style>\n",
              "<table border=\"1\" class=\"dataframe\">\n",
              "  <thead>\n",
              "    <tr style=\"text-align: right;\">\n",
              "      <th></th>\n",
              "      <th>High</th>\n",
              "      <th>Low</th>\n",
              "      <th>Open</th>\n",
              "      <th>Close</th>\n",
              "      <th>Volume</th>\n",
              "      <th>Adj Close</th>\n",
              "    </tr>\n",
              "    <tr>\n",
              "      <th>Date</th>\n",
              "      <th></th>\n",
              "      <th></th>\n",
              "      <th></th>\n",
              "      <th></th>\n",
              "      <th></th>\n",
              "      <th></th>\n",
              "    </tr>\n",
              "  </thead>\n",
              "  <tbody>\n",
              "    <tr>\n",
              "      <th>2017-01-01</th>\n",
              "      <td>65.910004</td>\n",
              "      <td>61.950001</td>\n",
              "      <td>62.790001</td>\n",
              "      <td>64.650002</td>\n",
              "      <td>493453500.0</td>\n",
              "      <td>59.846733</td>\n",
              "    </tr>\n",
              "    <tr>\n",
              "      <th>2017-02-01</th>\n",
              "      <td>65.239998</td>\n",
              "      <td>62.750000</td>\n",
              "      <td>64.360001</td>\n",
              "      <td>63.980000</td>\n",
              "      <td>440744000.0</td>\n",
              "      <td>59.226509</td>\n",
              "    </tr>\n",
              "    <tr>\n",
              "      <th>2017-03-01</th>\n",
              "      <td>66.190002</td>\n",
              "      <td>63.619999</td>\n",
              "      <td>64.129997</td>\n",
              "      <td>65.860001</td>\n",
              "      <td>489169700.0</td>\n",
              "      <td>61.336449</td>\n",
              "    </tr>\n",
              "    <tr>\n",
              "      <th>2017-04-01</th>\n",
              "      <td>69.139999</td>\n",
              "      <td>64.849998</td>\n",
              "      <td>65.809998</td>\n",
              "      <td>68.459999</td>\n",
              "      <td>433191200.0</td>\n",
              "      <td>63.757870</td>\n",
              "    </tr>\n",
              "    <tr>\n",
              "      <th>2017-05-01</th>\n",
              "      <td>70.739998</td>\n",
              "      <td>67.139999</td>\n",
              "      <td>68.680000</td>\n",
              "      <td>69.839996</td>\n",
              "      <td>517218500.0</td>\n",
              "      <td>65.043083</td>\n",
              "    </tr>\n",
              "    <tr>\n",
              "      <th>...</th>\n",
              "      <td>...</td>\n",
              "      <td>...</td>\n",
              "      <td>...</td>\n",
              "      <td>...</td>\n",
              "      <td>...</td>\n",
              "      <td>...</td>\n",
              "    </tr>\n",
              "    <tr>\n",
              "      <th>2022-05-01</th>\n",
              "      <td>290.880005</td>\n",
              "      <td>246.440002</td>\n",
              "      <td>277.709991</td>\n",
              "      <td>271.869995</td>\n",
              "      <td>742902000.0</td>\n",
              "      <td>271.238251</td>\n",
              "    </tr>\n",
              "    <tr>\n",
              "      <th>2022-06-01</th>\n",
              "      <td>277.690002</td>\n",
              "      <td>241.509995</td>\n",
              "      <td>275.200012</td>\n",
              "      <td>256.829987</td>\n",
              "      <td>621372300.0</td>\n",
              "      <td>256.829987</td>\n",
              "    </tr>\n",
              "    <tr>\n",
              "      <th>2022-07-01</th>\n",
              "      <td>282.000000</td>\n",
              "      <td>245.940002</td>\n",
              "      <td>256.390015</td>\n",
              "      <td>280.739990</td>\n",
              "      <td>534868400.0</td>\n",
              "      <td>280.739990</td>\n",
              "    </tr>\n",
              "    <tr>\n",
              "      <th>2022-08-01</th>\n",
              "      <td>291.910004</td>\n",
              "      <td>272.380005</td>\n",
              "      <td>277.820007</td>\n",
              "      <td>291.910004</td>\n",
              "      <td>212179300.0</td>\n",
              "      <td>291.910004</td>\n",
              "    </tr>\n",
              "    <tr>\n",
              "      <th>2022-08-15</th>\n",
              "      <td>292.679901</td>\n",
              "      <td>290.130005</td>\n",
              "      <td>291.000000</td>\n",
              "      <td>290.709991</td>\n",
              "      <td>7363164.0</td>\n",
              "      <td>290.709991</td>\n",
              "    </tr>\n",
              "  </tbody>\n",
              "</table>\n",
              "<p>69 rows × 6 columns</p>\n",
              "</div>\n",
              "      <button class=\"colab-df-convert\" onclick=\"convertToInteractive('df-083f18f8-a6f8-4f35-8637-3491a5c4cb72')\"\n",
              "              title=\"Convert this dataframe to an interactive table.\"\n",
              "              style=\"display:none;\">\n",
              "        \n",
              "  <svg xmlns=\"http://www.w3.org/2000/svg\" height=\"24px\"viewBox=\"0 0 24 24\"\n",
              "       width=\"24px\">\n",
              "    <path d=\"M0 0h24v24H0V0z\" fill=\"none\"/>\n",
              "    <path d=\"M18.56 5.44l.94 2.06.94-2.06 2.06-.94-2.06-.94-.94-2.06-.94 2.06-2.06.94zm-11 1L8.5 8.5l.94-2.06 2.06-.94-2.06-.94L8.5 2.5l-.94 2.06-2.06.94zm10 10l.94 2.06.94-2.06 2.06-.94-2.06-.94-.94-2.06-.94 2.06-2.06.94z\"/><path d=\"M17.41 7.96l-1.37-1.37c-.4-.4-.92-.59-1.43-.59-.52 0-1.04.2-1.43.59L10.3 9.45l-7.72 7.72c-.78.78-.78 2.05 0 2.83L4 21.41c.39.39.9.59 1.41.59.51 0 1.02-.2 1.41-.59l7.78-7.78 2.81-2.81c.8-.78.8-2.07 0-2.86zM5.41 20L4 18.59l7.72-7.72 1.47 1.35L5.41 20z\"/>\n",
              "  </svg>\n",
              "      </button>\n",
              "      \n",
              "  <style>\n",
              "    .colab-df-container {\n",
              "      display:flex;\n",
              "      flex-wrap:wrap;\n",
              "      gap: 12px;\n",
              "    }\n",
              "\n",
              "    .colab-df-convert {\n",
              "      background-color: #E8F0FE;\n",
              "      border: none;\n",
              "      border-radius: 50%;\n",
              "      cursor: pointer;\n",
              "      display: none;\n",
              "      fill: #1967D2;\n",
              "      height: 32px;\n",
              "      padding: 0 0 0 0;\n",
              "      width: 32px;\n",
              "    }\n",
              "\n",
              "    .colab-df-convert:hover {\n",
              "      background-color: #E2EBFA;\n",
              "      box-shadow: 0px 1px 2px rgba(60, 64, 67, 0.3), 0px 1px 3px 1px rgba(60, 64, 67, 0.15);\n",
              "      fill: #174EA6;\n",
              "    }\n",
              "\n",
              "    [theme=dark] .colab-df-convert {\n",
              "      background-color: #3B4455;\n",
              "      fill: #D2E3FC;\n",
              "    }\n",
              "\n",
              "    [theme=dark] .colab-df-convert:hover {\n",
              "      background-color: #434B5C;\n",
              "      box-shadow: 0px 1px 3px 1px rgba(0, 0, 0, 0.15);\n",
              "      filter: drop-shadow(0px 1px 2px rgba(0, 0, 0, 0.3));\n",
              "      fill: #FFFFFF;\n",
              "    }\n",
              "  </style>\n",
              "\n",
              "      <script>\n",
              "        const buttonEl =\n",
              "          document.querySelector('#df-083f18f8-a6f8-4f35-8637-3491a5c4cb72 button.colab-df-convert');\n",
              "        buttonEl.style.display =\n",
              "          google.colab.kernel.accessAllowed ? 'block' : 'none';\n",
              "\n",
              "        async function convertToInteractive(key) {\n",
              "          const element = document.querySelector('#df-083f18f8-a6f8-4f35-8637-3491a5c4cb72');\n",
              "          const dataTable =\n",
              "            await google.colab.kernel.invokeFunction('convertToInteractive',\n",
              "                                                     [key], {});\n",
              "          if (!dataTable) return;\n",
              "\n",
              "          const docLinkHtml = 'Like what you see? Visit the ' +\n",
              "            '<a target=\"_blank\" href=https://colab.research.google.com/notebooks/data_table.ipynb>data table notebook</a>'\n",
              "            + ' to learn more about interactive tables.';\n",
              "          element.innerHTML = '';\n",
              "          dataTable['output_type'] = 'display_data';\n",
              "          await google.colab.output.renderOutput(dataTable, element);\n",
              "          const docLink = document.createElement('div');\n",
              "          docLink.innerHTML = docLinkHtml;\n",
              "          element.appendChild(docLink);\n",
              "        }\n",
              "      </script>\n",
              "    </div>\n",
              "  </div>\n",
              "  "
            ]
          },
          "metadata": {},
          "execution_count": 3
        }
      ]
    },
    {
      "cell_type": "code",
      "source": [
        "AAPL"
      ],
      "metadata": {
        "colab": {
          "base_uri": "https://localhost:8080/",
          "height": 455
        },
        "id": "r5e9S3ECEtMU",
        "outputId": "8e6dd6ea-3971-46e5-a31d-1d3f725039ca"
      },
      "execution_count": null,
      "outputs": [
        {
          "output_type": "execute_result",
          "data": {
            "text/plain": [
              "                  High         Low        Open       Close        Volume  \\\n",
              "Date                                                                       \n",
              "2017-01-01   30.610001   28.690001   28.950001   30.337500  2.252488e+09   \n",
              "2017-02-01   34.369999   31.752501   31.757500   34.247501  2.299874e+09   \n",
              "2017-03-01   36.125000   34.262501   34.472500   35.915001  2.246514e+09   \n",
              "2017-04-01   36.365002   35.014999   35.927502   35.912498  1.493216e+09   \n",
              "2017-05-01   39.162498   36.067501   36.275002   38.189999  2.615927e+09   \n",
              "...                ...         ...         ...         ...           ...   \n",
              "2022-05-01  166.479996  132.610001  156.710007  148.839996  2.401040e+09   \n",
              "2022-06-01  151.740005  129.039993  149.899994  136.720001  1.749100e+09   \n",
              "2022-07-01  163.630005  135.660004  136.039993  162.509995  1.447028e+09   \n",
              "2022-08-01  172.169998  159.630005  161.009995  172.100006  6.410431e+08   \n",
              "2022-08-15  172.460007  171.345001  171.520004  171.880005  1.987003e+07   \n",
              "\n",
              "             Adj Close  \n",
              "Date                    \n",
              "2017-01-01   28.438457  \n",
              "2017-02-01   32.103706  \n",
              "2017-03-01   33.812794  \n",
              "2017-04-01   33.810436  \n",
              "2017-05-01   35.954617  \n",
              "...                ...  \n",
              "2022-05-01  148.415482  \n",
              "2022-06-01  136.530350  \n",
              "2022-07-01  162.284576  \n",
              "2022-08-01  171.861282  \n",
              "2022-08-15  171.880005  \n",
              "\n",
              "[69 rows x 6 columns]"
            ],
            "text/html": [
              "\n",
              "  <div id=\"df-2c4dc1df-a1c9-4861-be4a-099db531fead\">\n",
              "    <div class=\"colab-df-container\">\n",
              "      <div>\n",
              "<style scoped>\n",
              "    .dataframe tbody tr th:only-of-type {\n",
              "        vertical-align: middle;\n",
              "    }\n",
              "\n",
              "    .dataframe tbody tr th {\n",
              "        vertical-align: top;\n",
              "    }\n",
              "\n",
              "    .dataframe thead th {\n",
              "        text-align: right;\n",
              "    }\n",
              "</style>\n",
              "<table border=\"1\" class=\"dataframe\">\n",
              "  <thead>\n",
              "    <tr style=\"text-align: right;\">\n",
              "      <th></th>\n",
              "      <th>High</th>\n",
              "      <th>Low</th>\n",
              "      <th>Open</th>\n",
              "      <th>Close</th>\n",
              "      <th>Volume</th>\n",
              "      <th>Adj Close</th>\n",
              "    </tr>\n",
              "    <tr>\n",
              "      <th>Date</th>\n",
              "      <th></th>\n",
              "      <th></th>\n",
              "      <th></th>\n",
              "      <th></th>\n",
              "      <th></th>\n",
              "      <th></th>\n",
              "    </tr>\n",
              "  </thead>\n",
              "  <tbody>\n",
              "    <tr>\n",
              "      <th>2017-01-01</th>\n",
              "      <td>30.610001</td>\n",
              "      <td>28.690001</td>\n",
              "      <td>28.950001</td>\n",
              "      <td>30.337500</td>\n",
              "      <td>2.252488e+09</td>\n",
              "      <td>28.438457</td>\n",
              "    </tr>\n",
              "    <tr>\n",
              "      <th>2017-02-01</th>\n",
              "      <td>34.369999</td>\n",
              "      <td>31.752501</td>\n",
              "      <td>31.757500</td>\n",
              "      <td>34.247501</td>\n",
              "      <td>2.299874e+09</td>\n",
              "      <td>32.103706</td>\n",
              "    </tr>\n",
              "    <tr>\n",
              "      <th>2017-03-01</th>\n",
              "      <td>36.125000</td>\n",
              "      <td>34.262501</td>\n",
              "      <td>34.472500</td>\n",
              "      <td>35.915001</td>\n",
              "      <td>2.246514e+09</td>\n",
              "      <td>33.812794</td>\n",
              "    </tr>\n",
              "    <tr>\n",
              "      <th>2017-04-01</th>\n",
              "      <td>36.365002</td>\n",
              "      <td>35.014999</td>\n",
              "      <td>35.927502</td>\n",
              "      <td>35.912498</td>\n",
              "      <td>1.493216e+09</td>\n",
              "      <td>33.810436</td>\n",
              "    </tr>\n",
              "    <tr>\n",
              "      <th>2017-05-01</th>\n",
              "      <td>39.162498</td>\n",
              "      <td>36.067501</td>\n",
              "      <td>36.275002</td>\n",
              "      <td>38.189999</td>\n",
              "      <td>2.615927e+09</td>\n",
              "      <td>35.954617</td>\n",
              "    </tr>\n",
              "    <tr>\n",
              "      <th>...</th>\n",
              "      <td>...</td>\n",
              "      <td>...</td>\n",
              "      <td>...</td>\n",
              "      <td>...</td>\n",
              "      <td>...</td>\n",
              "      <td>...</td>\n",
              "    </tr>\n",
              "    <tr>\n",
              "      <th>2022-05-01</th>\n",
              "      <td>166.479996</td>\n",
              "      <td>132.610001</td>\n",
              "      <td>156.710007</td>\n",
              "      <td>148.839996</td>\n",
              "      <td>2.401040e+09</td>\n",
              "      <td>148.415482</td>\n",
              "    </tr>\n",
              "    <tr>\n",
              "      <th>2022-06-01</th>\n",
              "      <td>151.740005</td>\n",
              "      <td>129.039993</td>\n",
              "      <td>149.899994</td>\n",
              "      <td>136.720001</td>\n",
              "      <td>1.749100e+09</td>\n",
              "      <td>136.530350</td>\n",
              "    </tr>\n",
              "    <tr>\n",
              "      <th>2022-07-01</th>\n",
              "      <td>163.630005</td>\n",
              "      <td>135.660004</td>\n",
              "      <td>136.039993</td>\n",
              "      <td>162.509995</td>\n",
              "      <td>1.447028e+09</td>\n",
              "      <td>162.284576</td>\n",
              "    </tr>\n",
              "    <tr>\n",
              "      <th>2022-08-01</th>\n",
              "      <td>172.169998</td>\n",
              "      <td>159.630005</td>\n",
              "      <td>161.009995</td>\n",
              "      <td>172.100006</td>\n",
              "      <td>6.410431e+08</td>\n",
              "      <td>171.861282</td>\n",
              "    </tr>\n",
              "    <tr>\n",
              "      <th>2022-08-15</th>\n",
              "      <td>172.460007</td>\n",
              "      <td>171.345001</td>\n",
              "      <td>171.520004</td>\n",
              "      <td>171.880005</td>\n",
              "      <td>1.987003e+07</td>\n",
              "      <td>171.880005</td>\n",
              "    </tr>\n",
              "  </tbody>\n",
              "</table>\n",
              "<p>69 rows × 6 columns</p>\n",
              "</div>\n",
              "      <button class=\"colab-df-convert\" onclick=\"convertToInteractive('df-2c4dc1df-a1c9-4861-be4a-099db531fead')\"\n",
              "              title=\"Convert this dataframe to an interactive table.\"\n",
              "              style=\"display:none;\">\n",
              "        \n",
              "  <svg xmlns=\"http://www.w3.org/2000/svg\" height=\"24px\"viewBox=\"0 0 24 24\"\n",
              "       width=\"24px\">\n",
              "    <path d=\"M0 0h24v24H0V0z\" fill=\"none\"/>\n",
              "    <path d=\"M18.56 5.44l.94 2.06.94-2.06 2.06-.94-2.06-.94-.94-2.06-.94 2.06-2.06.94zm-11 1L8.5 8.5l.94-2.06 2.06-.94-2.06-.94L8.5 2.5l-.94 2.06-2.06.94zm10 10l.94 2.06.94-2.06 2.06-.94-2.06-.94-.94-2.06-.94 2.06-2.06.94z\"/><path d=\"M17.41 7.96l-1.37-1.37c-.4-.4-.92-.59-1.43-.59-.52 0-1.04.2-1.43.59L10.3 9.45l-7.72 7.72c-.78.78-.78 2.05 0 2.83L4 21.41c.39.39.9.59 1.41.59.51 0 1.02-.2 1.41-.59l7.78-7.78 2.81-2.81c.8-.78.8-2.07 0-2.86zM5.41 20L4 18.59l7.72-7.72 1.47 1.35L5.41 20z\"/>\n",
              "  </svg>\n",
              "      </button>\n",
              "      \n",
              "  <style>\n",
              "    .colab-df-container {\n",
              "      display:flex;\n",
              "      flex-wrap:wrap;\n",
              "      gap: 12px;\n",
              "    }\n",
              "\n",
              "    .colab-df-convert {\n",
              "      background-color: #E8F0FE;\n",
              "      border: none;\n",
              "      border-radius: 50%;\n",
              "      cursor: pointer;\n",
              "      display: none;\n",
              "      fill: #1967D2;\n",
              "      height: 32px;\n",
              "      padding: 0 0 0 0;\n",
              "      width: 32px;\n",
              "    }\n",
              "\n",
              "    .colab-df-convert:hover {\n",
              "      background-color: #E2EBFA;\n",
              "      box-shadow: 0px 1px 2px rgba(60, 64, 67, 0.3), 0px 1px 3px 1px rgba(60, 64, 67, 0.15);\n",
              "      fill: #174EA6;\n",
              "    }\n",
              "\n",
              "    [theme=dark] .colab-df-convert {\n",
              "      background-color: #3B4455;\n",
              "      fill: #D2E3FC;\n",
              "    }\n",
              "\n",
              "    [theme=dark] .colab-df-convert:hover {\n",
              "      background-color: #434B5C;\n",
              "      box-shadow: 0px 1px 3px 1px rgba(0, 0, 0, 0.15);\n",
              "      filter: drop-shadow(0px 1px 2px rgba(0, 0, 0, 0.3));\n",
              "      fill: #FFFFFF;\n",
              "    }\n",
              "  </style>\n",
              "\n",
              "      <script>\n",
              "        const buttonEl =\n",
              "          document.querySelector('#df-2c4dc1df-a1c9-4861-be4a-099db531fead button.colab-df-convert');\n",
              "        buttonEl.style.display =\n",
              "          google.colab.kernel.accessAllowed ? 'block' : 'none';\n",
              "\n",
              "        async function convertToInteractive(key) {\n",
              "          const element = document.querySelector('#df-2c4dc1df-a1c9-4861-be4a-099db531fead');\n",
              "          const dataTable =\n",
              "            await google.colab.kernel.invokeFunction('convertToInteractive',\n",
              "                                                     [key], {});\n",
              "          if (!dataTable) return;\n",
              "\n",
              "          const docLinkHtml = 'Like what you see? Visit the ' +\n",
              "            '<a target=\"_blank\" href=https://colab.research.google.com/notebooks/data_table.ipynb>data table notebook</a>'\n",
              "            + ' to learn more about interactive tables.';\n",
              "          element.innerHTML = '';\n",
              "          dataTable['output_type'] = 'display_data';\n",
              "          await google.colab.output.renderOutput(dataTable, element);\n",
              "          const docLink = document.createElement('div');\n",
              "          docLink.innerHTML = docLinkHtml;\n",
              "          element.appendChild(docLink);\n",
              "        }\n",
              "      </script>\n",
              "    </div>\n",
              "  </div>\n",
              "  "
            ]
          },
          "metadata": {},
          "execution_count": 4
        }
      ]
    },
    {
      "cell_type": "markdown",
      "source": [
        "OBTENEMOS EL CAMBIO MENSUAL DE CADA COMPAÑÍA USANDO EL ADJ. CLOSE"
      ],
      "metadata": {
        "id": "xfaP2Lb0HUT5"
      }
    },
    {
      "cell_type": "code",
      "source": [
        "MSFT[\"r\"] = np.log(MSFT['Adj Close']) - np.log(MSFT['Adj Close'].shift(1))\n",
        "print(MSFT[\"r\"])"
      ],
      "metadata": {
        "colab": {
          "base_uri": "https://localhost:8080/"
        },
        "id": "JwvI-DgjFBAl",
        "outputId": "c1ac99f4-858c-4c2b-d053-6e6ab08ccbb0"
      },
      "execution_count": null,
      "outputs": [
        {
          "output_type": "stream",
          "name": "stdout",
          "text": [
            "Date\n",
            "2017-01-01         NaN\n",
            "2017-02-01   -0.010418\n",
            "2017-03-01    0.035005\n",
            "2017-04-01    0.038718\n",
            "2017-05-01    0.019957\n",
            "                ...   \n",
            "2022-05-01   -0.020569\n",
            "2022-06-01   -0.054583\n",
            "2022-07-01    0.089015\n",
            "2022-08-01    0.039017\n",
            "2022-08-15   -0.004119\n",
            "Name: r, Length: 69, dtype: float64\n"
          ]
        }
      ]
    },
    {
      "cell_type": "code",
      "source": [
        "AAPL[\"r\"] = np.log(AAPL['Adj Close']) - np.log(AAPL['Adj Close'].shift(1))\n",
        "print(AAPL[\"r\"])"
      ],
      "metadata": {
        "colab": {
          "base_uri": "https://localhost:8080/"
        },
        "id": "IEfUKz22FBXJ",
        "outputId": "dc1034ea-f882-4c7f-afde-dce636a601bf"
      },
      "execution_count": null,
      "outputs": [
        {
          "output_type": "stream",
          "name": "stdout",
          "text": [
            "Date\n",
            "2017-01-01         NaN\n",
            "2017-02-01    0.121229\n",
            "2017-03-01    0.051868\n",
            "2017-04-01   -0.000070\n",
            "2017-05-01    0.061488\n",
            "                ...   \n",
            "2022-05-01   -0.057505\n",
            "2022-06-01   -0.083469\n",
            "2022-07-01    0.172805\n",
            "2022-08-01    0.057336\n",
            "2022-08-15    0.000109\n",
            "Name: r, Length: 69, dtype: float64\n"
          ]
        }
      ]
    },
    {
      "cell_type": "markdown",
      "source": [
        "#DECLARAMOS NUESTRAS HIPOTESIS"
      ],
      "metadata": {
        "id": "rFxMwk_9H82w"
      }
    },
    {
      "cell_type": "markdown",
      "source": [
        "\n",
        "*   H0: APPL_MEAN - MSFT_MEAN = 0\n",
        "*   HA: APPL_MEAN - MSFT_MEAN >< 0"
      ],
      "metadata": {
        "id": "w_LoV_iUHoh6"
      }
    },
    {
      "cell_type": "code",
      "source": [
        "MSFT_r_mean = MSFT[\"r\"].mean()\n",
        "MSFT_r_mean"
      ],
      "metadata": {
        "colab": {
          "base_uri": "https://localhost:8080/"
        },
        "id": "IhAvB0HNFHJi",
        "outputId": "e928f5d5-e1cf-40cb-c3e3-70474cc6bf0d"
      },
      "execution_count": null,
      "outputs": [
        {
          "output_type": "execute_result",
          "data": {
            "text/plain": [
              "0.023243225466153324"
            ]
          },
          "metadata": {},
          "execution_count": 7
        }
      ]
    },
    {
      "cell_type": "code",
      "source": [
        "AAPL_r_mean = AAPL[\"r\"].mean()\n",
        "AAPL_r_mean"
      ],
      "metadata": {
        "colab": {
          "base_uri": "https://localhost:8080/"
        },
        "id": "rhopEKRFFPGI",
        "outputId": "dccaae0e-d711-4eca-88d1-00eec28a8448"
      },
      "execution_count": null,
      "outputs": [
        {
          "output_type": "execute_result",
          "data": {
            "text/plain": [
              "0.026456679723931925"
            ]
          },
          "metadata": {},
          "execution_count": 8
        }
      ]
    },
    {
      "cell_type": "code",
      "source": [
        "MSFT_r_var = MSFT[\"r\"].var()\n",
        "MSFT_r_var"
      ],
      "metadata": {
        "colab": {
          "base_uri": "https://localhost:8080/"
        },
        "id": "rg7-4EMUHf2H",
        "outputId": "2265c8e2-8262-430b-a79d-5ea47c407f0e"
      },
      "execution_count": null,
      "outputs": [
        {
          "output_type": "execute_result",
          "data": {
            "text/plain": [
              "0.0029367161595462957"
            ]
          },
          "metadata": {},
          "execution_count": 18
        }
      ]
    },
    {
      "cell_type": "code",
      "source": [
        "AAPL_r_var = AAPL[\"r\"].var()\n",
        "AAPL_r_var"
      ],
      "metadata": {
        "colab": {
          "base_uri": "https://localhost:8080/"
        },
        "id": "ZGG47vloIYyz",
        "outputId": "76a9f451-ca2d-44b2-d3eb-10a82d16d36e"
      },
      "execution_count": null,
      "outputs": [
        {
          "output_type": "execute_result",
          "data": {
            "text/plain": [
              "0.007168812643463643"
            ]
          },
          "metadata": {},
          "execution_count": 19
        }
      ]
    },
    {
      "cell_type": "markdown",
      "source": [
        "OBTENEMOS MEDIAS Y VARIANZAS DE AMBAS EMPRESAS PARA PODER USAR NUESTRA FORMULA DE T"
      ],
      "metadata": {
        "id": "rhcojX5DICkz"
      }
    },
    {
      "cell_type": "code",
      "source": [
        "t = (AAPL_r_mean - MSFT_r_mean - 0) / math.sqrt((AAPL_r_var + MSFT_r_var) / AAPL[\"r\"].count())\n",
        "t"
      ],
      "metadata": {
        "colab": {
          "base_uri": "https://localhost:8080/"
        },
        "id": "wg7uaSRtFcea",
        "outputId": "9036d07d-62ac-4cf1-d023-c485ae2ca67d"
      },
      "execution_count": null,
      "outputs": [
        {
          "output_type": "execute_result",
          "data": {
            "text/plain": [
              "0.26360100184770313"
            ]
          },
          "metadata": {},
          "execution_count": 20
        }
      ]
    },
    {
      "cell_type": "markdown",
      "source": [
        "PODEMOS OBSERVAR QUE LA T ES MUY PEQUEÑA, POR LO QUE NUESTRA HIPOTESIS NULA NO PUEDE SER DESCARTADA, PERO TAMBIEN VEMOS QUE NO ES 0, POR LO QUE SI HAY UNA DIFERENCIA, Y COMO NOSOTROS SUPUSIMOS QUE APPL_MEAN - MSFT_MEAN >< 0  Y OBTUVIMOS UN VALOR POSITIVO, VEMOS QUE ESTO ES CIERTO Y EN ESTE CASO AL USAR:\n",
        "\n",
        " AAPL_MEAN - MSFT_MEAN > 0 => AAPL_MEAN > MSFT_MEAN"
      ],
      "metadata": {
        "id": "89KhzKliIUB0"
      }
    }
  ]
}